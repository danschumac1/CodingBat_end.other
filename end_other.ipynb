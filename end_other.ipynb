{
 "cells": [
  {
   "cell_type": "markdown",
   "id": "e74cc719",
   "metadata": {},
   "source": [
    "# String-2 > end_other"
   ]
  },
  {
   "cell_type": "markdown",
   "id": "60fae3a8",
   "metadata": {},
   "source": [
    "Given two strings, return True if either of the strings appears at the very end of the other string, ignoring upper/lower case differences (in other words, the computation should not be \"case sensitive\"). Note: s.lower() returns the lowercase version of a string.\n",
    "\n",
    "\n",
    "end_other('Hiabc', 'abc') → True\n",
    "\n",
    "end_other('AbC', 'HiaBc') → True\n",
    "\n",
    "end_other('abc', 'abXabc') → True"
   ]
  },
  {
   "cell_type": "code",
   "execution_count": 1,
   "id": "a596f7d6",
   "metadata": {},
   "outputs": [],
   "source": [
    "def end_other(a, b):\n",
    "  if a[-len(b)::].lower() == b.lower() or b[-len(a)::].lower() == a.lower():\n",
    "    return True\n",
    "  else:\n",
    "    return False\n"
   ]
  }
 ],
 "metadata": {
  "kernelspec": {
   "display_name": "Python 3 (ipykernel)",
   "language": "python",
   "name": "python3"
  },
  "language_info": {
   "codemirror_mode": {
    "name": "ipython",
    "version": 3
   },
   "file_extension": ".py",
   "mimetype": "text/x-python",
   "name": "python",
   "nbconvert_exporter": "python",
   "pygments_lexer": "ipython3",
   "version": "3.9.12"
  }
 },
 "nbformat": 4,
 "nbformat_minor": 5
}
